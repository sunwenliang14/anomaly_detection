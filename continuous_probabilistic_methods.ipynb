{
 "cells": [
  {
   "cell_type": "code",
   "execution_count": 1,
   "metadata": {},
   "outputs": [],
   "source": [
    "import numpy as np\n",
    "import pandas as pd\n",
    "import seaborn as sns\n",
    "import matplotlib.pyplot as plt\n",
    "import warnings\n",
    "warnings.filterwarnings(\"ignore\")"
   ]
  },
  {
   "cell_type": "code",
   "execution_count": 2,
   "metadata": {},
   "outputs": [],
   "source": [
    "df = pd.read_csv('lemonade.csv')"
   ]
  },
  {
   "cell_type": "code",
   "execution_count": 3,
   "metadata": {},
   "outputs": [
    {
     "data": {
      "text/html": [
       "<div>\n",
       "<style scoped>\n",
       "    .dataframe tbody tr th:only-of-type {\n",
       "        vertical-align: middle;\n",
       "    }\n",
       "\n",
       "    .dataframe tbody tr th {\n",
       "        vertical-align: top;\n",
       "    }\n",
       "\n",
       "    .dataframe thead th {\n",
       "        text-align: right;\n",
       "    }\n",
       "</style>\n",
       "<table border=\"1\" class=\"dataframe\">\n",
       "  <thead>\n",
       "    <tr style=\"text-align: right;\">\n",
       "      <th></th>\n",
       "      <th>Date</th>\n",
       "      <th>Day</th>\n",
       "      <th>Temperature</th>\n",
       "      <th>Rainfall</th>\n",
       "      <th>Flyers</th>\n",
       "      <th>Price</th>\n",
       "      <th>Sales</th>\n",
       "    </tr>\n",
       "  </thead>\n",
       "  <tbody>\n",
       "    <tr>\n",
       "      <th>0</th>\n",
       "      <td>1/1/17</td>\n",
       "      <td>Sunday</td>\n",
       "      <td>27.0</td>\n",
       "      <td>2.00</td>\n",
       "      <td>15</td>\n",
       "      <td>0.5</td>\n",
       "      <td>10</td>\n",
       "    </tr>\n",
       "    <tr>\n",
       "      <th>1</th>\n",
       "      <td>1/2/17</td>\n",
       "      <td>Monday</td>\n",
       "      <td>28.9</td>\n",
       "      <td>1.33</td>\n",
       "      <td>15</td>\n",
       "      <td>0.5</td>\n",
       "      <td>13</td>\n",
       "    </tr>\n",
       "    <tr>\n",
       "      <th>2</th>\n",
       "      <td>1/3/17</td>\n",
       "      <td>Tuesday</td>\n",
       "      <td>34.5</td>\n",
       "      <td>1.33</td>\n",
       "      <td>27</td>\n",
       "      <td>0.5</td>\n",
       "      <td>15</td>\n",
       "    </tr>\n",
       "    <tr>\n",
       "      <th>3</th>\n",
       "      <td>1/4/17</td>\n",
       "      <td>Wednesday</td>\n",
       "      <td>44.1</td>\n",
       "      <td>1.05</td>\n",
       "      <td>28</td>\n",
       "      <td>0.5</td>\n",
       "      <td>17</td>\n",
       "    </tr>\n",
       "    <tr>\n",
       "      <th>4</th>\n",
       "      <td>1/5/17</td>\n",
       "      <td>Thursday</td>\n",
       "      <td>42.4</td>\n",
       "      <td>1.00</td>\n",
       "      <td>33</td>\n",
       "      <td>0.5</td>\n",
       "      <td>18</td>\n",
       "    </tr>\n",
       "  </tbody>\n",
       "</table>\n",
       "</div>"
      ],
      "text/plain": [
       "     Date        Day  Temperature  Rainfall  Flyers  Price  Sales\n",
       "0  1/1/17     Sunday         27.0      2.00      15    0.5     10\n",
       "1  1/2/17     Monday         28.9      1.33      15    0.5     13\n",
       "2  1/3/17    Tuesday         34.5      1.33      27    0.5     15\n",
       "3  1/4/17  Wednesday         44.1      1.05      28    0.5     17\n",
       "4  1/5/17   Thursday         42.4      1.00      33    0.5     18"
      ]
     },
     "execution_count": 3,
     "metadata": {},
     "output_type": "execute_result"
    }
   ],
   "source": [
    "df.head()"
   ]
  },
  {
   "cell_type": "code",
   "execution_count": 4,
   "metadata": {},
   "outputs": [
    {
     "data": {
      "text/plain": [
       "(365, 7)"
      ]
     },
     "execution_count": 4,
     "metadata": {},
     "output_type": "execute_result"
    }
   ],
   "source": [
    "df.shape"
   ]
  },
  {
   "cell_type": "code",
   "execution_count": 5,
   "metadata": {},
   "outputs": [
    {
     "name": "stdout",
     "output_type": "stream",
     "text": [
      "<class 'pandas.core.frame.DataFrame'>\n",
      "RangeIndex: 365 entries, 0 to 364\n",
      "Data columns (total 7 columns):\n",
      "Date           365 non-null object\n",
      "Day            365 non-null object\n",
      "Temperature    365 non-null float64\n",
      "Rainfall       365 non-null float64\n",
      "Flyers         365 non-null int64\n",
      "Price          365 non-null float64\n",
      "Sales          365 non-null int64\n",
      "dtypes: float64(3), int64(2), object(2)\n",
      "memory usage: 20.1+ KB\n"
     ]
    }
   ],
   "source": [
    "df.info()"
   ]
  },
  {
   "cell_type": "markdown",
   "metadata": {},
   "source": [
    "1. Define a function named get_lower_and_upper_bounds that has two arguments. The first argument is a pandas Series. The second argument is the multiplier, which should have a default argument of 1.5."
   ]
  },
  {
   "cell_type": "code",
   "execution_count": 6,
   "metadata": {},
   "outputs": [],
   "source": [
    "def get_lower_and_upper_bounds(series, multiplier=1.5):\n",
    "    q1 = series.quantile(.25)\n",
    "    q3 = series.quantile(.75)\n",
    "    iqr = q3 - q1\n",
    "    lower_bound = q1 - multiplier * iqr\n",
    "    upper_bound = q3 + multiplier * iqr\n",
    "    return lower_bound, upper_bound  "
   ]
  },
  {
   "cell_type": "markdown",
   "metadata": {},
   "source": [
    "Using lemonade.csv dataset and focusing on continuous variables:\n",
    "\n",
    "1. Use the IQR Range Rule and the upper and lower bounds to identify the lower outliers of each column of lemonade.csv, using the multiplier of 1.5. Do these lower outliers make sense?Which outliers should be kept?"
   ]
  },
  {
   "cell_type": "code",
   "execution_count": 7,
   "metadata": {},
   "outputs": [
    {
     "data": {
      "text/plain": [
       "Temperature    16.70\n",
       "Rainfall        0.26\n",
       "Flyers          4.00\n",
       "Price           0.50\n",
       "Sales           5.00\n",
       "dtype: float64"
      ]
     },
     "execution_count": 7,
     "metadata": {},
     "output_type": "execute_result"
    }
   ],
   "source": [
    "df_lower_bound = get_lower_and_upper_bounds(df[['Temperature','Rainfall','Flyers','Price','Sales']])[0]\n",
    "df_lower_bound"
   ]
  },
  {
   "cell_type": "code",
   "execution_count": 8,
   "metadata": {},
   "outputs": [
    {
     "data": {
      "text/plain": [
       "Temperature    15.1\n",
       "Rainfall        0.4\n",
       "Flyers        -38.0\n",
       "Price           0.5\n",
       "Sales           7.0\n",
       "dtype: float64"
      ]
     },
     "execution_count": 8,
     "metadata": {},
     "output_type": "execute_result"
    }
   ],
   "source": [
    "df[['Temperature','Rainfall','Flyers','Price','Sales']].min()"
   ]
  },
  {
   "cell_type": "code",
   "execution_count": 9,
   "metadata": {
    "scrolled": true
   },
   "outputs": [
    {
     "data": {
      "image/png": "[encoded data removed]",
      "text/plain": [
       "<Figure size 864x576 with 6 Axes>"
      ]
     },
     "metadata": {
      "needs_background": "light"
     },
     "output_type": "display_data"
    }
   ],
   "source": [
    "df.hist(figsize=(12,8), bins=20)\n",
    "plt.show()"
   ]
  },
  {
   "cell_type": "code",
   "execution_count": 10,
   "metadata": {},
   "outputs": [],
   "source": [
    "# Determine temperature boundaries using 1.5 IQR range rule\n",
    "lower_bound, upper_bound = get_lower_and_upper_bounds(df.Temperature)"
   ]
  },
  {
   "cell_type": "code",
   "execution_count": 11,
   "metadata": {
    "scrolled": true
   },
   "outputs": [],
   "source": [
    "low_outliers = df.Temperature[df.Temperature < lower_bound]"
   ]
  },
  {
   "cell_type": "code",
   "execution_count": 12,
   "metadata": {},
   "outputs": [
    {
     "data": {
      "text/plain": [
       "364    15.1\n",
       "Name: Temperature, dtype: float64"
      ]
     },
     "execution_count": 12,
     "metadata": {},
     "output_type": "execute_result"
    }
   ],
   "source": [
    "# this lower outliners make sense and should be kept\n",
    "low_outliers"
   ]
  },
  {
   "cell_type": "code",
   "execution_count": 13,
   "metadata": {},
   "outputs": [],
   "source": [
    "# Determine rainfall boundaries using 1.5 IQR range rule\n",
    "lower_bound, upper_bound = get_lower_and_upper_bounds(df.Rainfall)"
   ]
  },
  {
   "cell_type": "code",
   "execution_count": 14,
   "metadata": {},
   "outputs": [
    {
     "data": {
      "text/plain": [
       "Series([], Name: Rainfall, dtype: float64)"
      ]
     },
     "execution_count": 14,
     "metadata": {},
     "output_type": "execute_result"
    }
   ],
   "source": [
    "# there is no lower outliners by using 1.5 IQR Range rule\n",
    "low_outliers = df.Rainfall[df.Rainfall < lower_bound]\n",
    "low_outliers"
   ]
  },
  {
   "cell_type": "code",
   "execution_count": 15,
   "metadata": {},
   "outputs": [],
   "source": [
    "# Determine Flyers boundaries using 1.5 IQR range rule\n",
    "lower_bound, upper_bound = get_lower_and_upper_bounds(df.Flyers)"
   ]
  },
  {
   "cell_type": "code",
   "execution_count": 16,
   "metadata": {},
   "outputs": [
    {
     "data": {
      "text/plain": [
       "324   -38\n",
       "Name: Flyers, dtype: int64"
      ]
     },
     "execution_count": 16,
     "metadata": {},
     "output_type": "execute_result"
    }
   ],
   "source": [
    "# there is one lower outliners of Flyers by using 1.5 IQR Range rule\n",
    "low_outliers = df.Flyers[df.Flyers < lower_bound]\n",
    "low_outliers"
   ]
  },
  {
   "cell_type": "code",
   "execution_count": 17,
   "metadata": {},
   "outputs": [],
   "source": [
    "# Determine Sales boundaries using 1.5 IQR range rule\n",
    "lower_bound, upper_bound = get_lower_and_upper_bounds(df.Sales)"
   ]
  },
  {
   "cell_type": "code",
   "execution_count": 18,
   "metadata": {},
   "outputs": [
    {
     "data": {
      "text/plain": [
       "Series([], Name: Sales, dtype: int64)"
      ]
     },
     "execution_count": 18,
     "metadata": {},
     "output_type": "execute_result"
    }
   ],
   "source": [
    "# there is no lower outliners of Sales by using 1.5 IQR Range rule\n",
    "low_outliers = df.Sales[df.Sales < lower_bound]\n",
    "low_outliers"
   ]
  },
  {
   "cell_type": "markdown",
   "metadata": {},
   "source": [
    "- Use the IQR Range Rule and the upper and lower bounds to identify the upper outliers of each column of lemonade.csv, using the multiplier of 1.5. Do these lower outliers make sense?Which outliers should be kept?"
   ]
  },
  {
   "cell_type": "code",
   "execution_count": 19,
   "metadata": {},
   "outputs": [
    {
     "name": "stdout",
     "output_type": "stream",
     "text": [
      "104.7\n"
     ]
    },
    {
     "data": {
      "text/plain": [
       "41    212.0\n",
       "Name: Temperature, dtype: float64"
      ]
     },
     "execution_count": 19,
     "metadata": {},
     "output_type": "execute_result"
    }
   ],
   "source": [
    "# Determine temperature boundaries using 1.5 IQR range rule\n",
    "lower_bound, upper_bound = get_lower_and_upper_bounds(df.Temperature)\n",
    "upper_outliers = df.Temperature[df.Temperature > upper_bound]\n",
    "# this is one upper outliners by using 1.5 IQR Range rule\n",
    "print(upper_bound)\n",
    "upper_outliers"
   ]
  },
  {
   "cell_type": "code",
   "execution_count": 20,
   "metadata": {},
   "outputs": [
    {
     "name": "stdout",
     "output_type": "stream",
     "text": [
      "1.3\n"
     ]
    },
    {
     "data": {
      "text/plain": [
       "28"
      ]
     },
     "execution_count": 20,
     "metadata": {},
     "output_type": "execute_result"
    }
   ],
   "source": [
    "# Determine rainfall boundaries using 1.5 IQR range rule\n",
    "lower_bound, upper_bound = get_lower_and_upper_bounds(df.Rainfall)\n",
    "upper_outliers = df.Rainfall[df.Rainfall > upper_bound]\n",
    "# there are 28 upper outliners by using 1.5 IQR Range rule, probably doesnt make sense \n",
    "print(upper_bound)\n",
    "len(upper_outliers)"
   ]
  },
  {
   "cell_type": "code",
   "execution_count": 21,
   "metadata": {},
   "outputs": [
    {
     "name": "stdout",
     "output_type": "stream",
     "text": [
      "76.0\n"
     ]
    },
    {
     "data": {
      "text/plain": [
       "166    77\n",
       "194    80\n",
       "Name: Flyers, dtype: int64"
      ]
     },
     "execution_count": 21,
     "metadata": {},
     "output_type": "execute_result"
    }
   ],
   "source": [
    "# Determine flyers boundaries using 1.5 IQR range rule\n",
    "lower_bound, upper_bound = get_lower_and_upper_bounds(df.Flyers)\n",
    "upper_outliers = df.Flyers[df.Flyers > upper_bound]\n",
    "# there are 2 upper outliners by using 1.5 IQR Range rule\n",
    "print(upper_bound)\n",
    "upper_outliers"
   ]
  },
  {
   "cell_type": "code",
   "execution_count": 22,
   "metadata": {},
   "outputs": [
    {
     "name": "stdout",
     "output_type": "stream",
     "text": [
      "45.0\n"
     ]
    },
    {
     "data": {
      "text/plain": [
       "183    235\n",
       "184    534\n",
       "185     99\n",
       "258     87\n",
       "Name: Sales, dtype: int64"
      ]
     },
     "execution_count": 22,
     "metadata": {},
     "output_type": "execute_result"
    }
   ],
   "source": [
    "# Determine sales boundaries using 1.5 IQR range rule\n",
    "lower_bound, upper_bound = get_lower_and_upper_bounds(df.Sales)\n",
    "upper_outliers = df.Sales[df.Sales > upper_bound]\n",
    "# there are 4 upper outliners by using 1.5 IQR Range rule. it kind of make sense \n",
    "print(upper_bound)\n",
    "upper_outliers"
   ]
  },
  {
   "cell_type": "markdown",
   "metadata": {},
   "source": [
    "- Using the multiplier of 3, IQR Range Rule, and the lower and upper bounds, identify the outliers below the lower bound in each colum of lemonade.csv. Do these lower outliers make sense?Which outliers should be kept?"
   ]
  },
  {
   "cell_type": "code",
   "execution_count": 23,
   "metadata": {},
   "outputs": [],
   "source": [
    "def get_lower_and_upper_bounds(series, multiplier=3):\n",
    "    q1 = series.quantile(.25)\n",
    "    q3 = series.quantile(.75)\n",
    "    iqr = q3 - q1\n",
    "    lower_bound = q1 - multiplier * iqr\n",
    "    upper_bound = q3 + multiplier * iqr\n",
    "    return lower_bound, upper_bound "
   ]
  },
  {
   "cell_type": "code",
   "execution_count": 24,
   "metadata": {},
   "outputs": [
    {
     "name": "stdout",
     "output_type": "stream",
     "text": [
      "-16.299999999999997\n"
     ]
    },
    {
     "data": {
      "text/plain": [
       "Series([], Name: Temperature, dtype: float64)"
      ]
     },
     "execution_count": 24,
     "metadata": {},
     "output_type": "execute_result"
    }
   ],
   "source": [
    "# Determine temperature boundaries using 3 IQR range rule\n",
    "lower_bound, upper_bound = get_lower_and_upper_bounds(df.Temperature)\n",
    "low_outliers = df.Temperature[df.Temperature < lower_bound]\n",
    "# this is no lower outliners by using 3 IQR range rule\n",
    "print(lower_bound)\n",
    "low_outliers"
   ]
  },
  {
   "cell_type": "code",
   "execution_count": 25,
   "metadata": {},
   "outputs": [
    {
     "name": "stdout",
     "output_type": "stream",
     "text": [
      "-0.13\n"
     ]
    },
    {
     "data": {
      "text/plain": [
       "Series([], Name: Rainfall, dtype: float64)"
      ]
     },
     "execution_count": 25,
     "metadata": {},
     "output_type": "execute_result"
    }
   ],
   "source": [
    "# Determine rainfall boundaries using 3 IQR range rule\n",
    "lower_bound, upper_bound = get_lower_and_upper_bounds(df.Rainfall)\n",
    "low_outliers = df.Rainfall[df.Rainfall < lower_bound]\n",
    "# this is no lower outliners by using 3 IQR range rule\n",
    "print(lower_bound)\n",
    "low_outliers"
   ]
  },
  {
   "cell_type": "code",
   "execution_count": 26,
   "metadata": {},
   "outputs": [
    {
     "name": "stdout",
     "output_type": "stream",
     "text": [
      "-23.0\n"
     ]
    },
    {
     "data": {
      "text/plain": [
       "324   -38\n",
       "Name: Flyers, dtype: int64"
      ]
     },
     "execution_count": 26,
     "metadata": {},
     "output_type": "execute_result"
    }
   ],
   "source": [
    "# Determine flyers boundaries using 3 IQR range rule\n",
    "lower_bound, upper_bound = get_lower_and_upper_bounds(df.Flyers)\n",
    "low_outliers = df.Flyers[df.Flyers < lower_bound]\n",
    "# this is one lower outliners by using 3 IQR range rule, using 3 IQR range rule for this variable make sense \n",
    "print(lower_bound)\n",
    "low_outliers"
   ]
  },
  {
   "cell_type": "code",
   "execution_count": 27,
   "metadata": {},
   "outputs": [
    {
     "name": "stdout",
     "output_type": "stream",
     "text": [
      "-10.0\n"
     ]
    },
    {
     "data": {
      "text/plain": [
       "Series([], Name: Sales, dtype: int64)"
      ]
     },
     "execution_count": 27,
     "metadata": {},
     "output_type": "execute_result"
    }
   ],
   "source": [
    "# Determine sales boundaries using 3 IQR range rule\n",
    "lower_bound, upper_bound = get_lower_and_upper_bounds(df.Sales)\n",
    "low_outliers = df.Sales[df.Sales < lower_bound]\n",
    "# this is no lower outliners by using 3 IQR range rule\n",
    "print(lower_bound)\n",
    "low_outliers"
   ]
  },
  {
   "cell_type": "markdown",
   "metadata": {},
   "source": [
    "- Using the multiplier of 3, IQR Range Rule, and the lower and upper bounds, identify the outliers above the upper_bound in each colum of lemonade.csv. Do these upper outliers make sense? Which outliers should be kept?"
   ]
  },
  {
   "cell_type": "code",
   "execution_count": 28,
   "metadata": {},
   "outputs": [
    {
     "name": "stdout",
     "output_type": "stream",
     "text": [
      "137.7\n"
     ]
    },
    {
     "data": {
      "text/plain": [
       "41    212.0\n",
       "Name: Temperature, dtype: float64"
      ]
     },
     "execution_count": 28,
     "metadata": {},
     "output_type": "execute_result"
    }
   ],
   "source": [
    "# Determine temperature boundaries using 3 IQR range rule\n",
    "lower_bound, upper_bound = get_lower_and_upper_bounds(df.Temperature)\n",
    "upper_outliers = df.Temperature[df.Temperature > upper_bound]\n",
    "# this is one upper outliners by using 3 IQR Range rule, it make senses for this variable\n",
    "print(upper_bound)\n",
    "upper_outliers"
   ]
  },
  {
   "cell_type": "code",
   "execution_count": 29,
   "metadata": {},
   "outputs": [
    {
     "name": "stdout",
     "output_type": "stream",
     "text": [
      "1.69\n"
     ]
    },
    {
     "data": {
      "text/plain": [
       "0      2.00\n",
       "338    1.82\n",
       "343    1.82\n",
       "364    2.50\n",
       "Name: Rainfall, dtype: float64"
      ]
     },
     "execution_count": 29,
     "metadata": {},
     "output_type": "execute_result"
    }
   ],
   "source": [
    "# Determine rainfall boundaries using 3 IQR range rule\n",
    "lower_bound, upper_bound = get_lower_and_upper_bounds(df.Rainfall)\n",
    "upper_outliers = df.Rainfall[df.Rainfall > upper_bound]\n",
    "# there are 4 upper outliners by using 3 IQR Range rule, this one make more sense than using 1.5 IQR range rule\n",
    "print(upper_bound)\n",
    "upper_outliers"
   ]
  },
  {
   "cell_type": "code",
   "execution_count": 30,
   "metadata": {},
   "outputs": [
    {
     "name": "stdout",
     "output_type": "stream",
     "text": [
      "103.0\n"
     ]
    },
    {
     "data": {
      "text/plain": [
       "Series([], Name: Flyers, dtype: int64)"
      ]
     },
     "execution_count": 30,
     "metadata": {},
     "output_type": "execute_result"
    }
   ],
   "source": [
    "# Determine flyers boundaries using 3 IQR range rule\n",
    "lower_bound, upper_bound = get_lower_and_upper_bounds(df.Flyers)\n",
    "upper_outliers = df.Flyers[df.Flyers > upper_bound]\n",
    "# there is none upper outliners by using 3 IQR Range rule\n",
    "print(upper_bound)\n",
    "upper_outliers"
   ]
  },
  {
   "cell_type": "code",
   "execution_count": 31,
   "metadata": {},
   "outputs": [
    {
     "name": "stdout",
     "output_type": "stream",
     "text": [
      "60.0\n"
     ]
    },
    {
     "data": {
      "text/plain": [
       "183    235\n",
       "184    534\n",
       "185     99\n",
       "258     87\n",
       "Name: Sales, dtype: int64"
      ]
     },
     "execution_count": 31,
     "metadata": {},
     "output_type": "execute_result"
    }
   ],
   "source": [
    "# Determine sales boundaries using 3 IQR range rule\n",
    "lower_bound, upper_bound = get_lower_and_upper_bounds(df.Sales)\n",
    "upper_outliers = df.Sales[df.Sales > upper_bound]\n",
    "# there are 4 upper outliners by using 3 IQR Range rule. Noticed that the 4 outlines are shown \n",
    "# both with using 1.5 and 3 IQR Range rule, these four are definitely can be counted as outliners \n",
    "print(upper_bound)\n",
    "upper_outliers"
   ]
  },
  {
   "cell_type": "markdown",
   "metadata": {},
   "source": [
    "2. Identify if any columns in lemonade.csv are normally distributed. For normally distributed columns:\n",
    "\n",
    " - Use a 2 sigma decision rule to isolate the outliers.\n",
    " - Do these make sense?\n",
    " - Should certain outliers be kept or removed?"
   ]
  },
  {
   "cell_type": "code",
   "execution_count": 32,
   "metadata": {},
   "outputs": [
    {
     "data": {
      "text/html": [
       "<div>\n",
       "<style scoped>\n",
       "    .dataframe tbody tr th:only-of-type {\n",
       "        vertical-align: middle;\n",
       "    }\n",
       "\n",
       "    .dataframe tbody tr th {\n",
       "        vertical-align: top;\n",
       "    }\n",
       "\n",
       "    .dataframe thead th {\n",
       "        text-align: right;\n",
       "    }\n",
       "</style>\n",
       "<table border=\"1\" class=\"dataframe\">\n",
       "  <thead>\n",
       "    <tr style=\"text-align: right;\">\n",
       "      <th></th>\n",
       "      <th>Date</th>\n",
       "      <th>Day</th>\n",
       "      <th>Temperature</th>\n",
       "      <th>Rainfall</th>\n",
       "      <th>Flyers</th>\n",
       "      <th>Price</th>\n",
       "      <th>Sales</th>\n",
       "    </tr>\n",
       "  </thead>\n",
       "  <tbody>\n",
       "    <tr>\n",
       "      <th>39</th>\n",
       "      <td>2/9/17</td>\n",
       "      <td>Thursday</td>\n",
       "      <td>42.7</td>\n",
       "      <td>1.00</td>\n",
       "      <td>39</td>\n",
       "      <td>0.5</td>\n",
       "      <td>19</td>\n",
       "    </tr>\n",
       "    <tr>\n",
       "      <th>40</th>\n",
       "      <td>2/10/17</td>\n",
       "      <td>Friday</td>\n",
       "      <td>50.0</td>\n",
       "      <td>0.91</td>\n",
       "      <td>40</td>\n",
       "      <td>0.5</td>\n",
       "      <td>20</td>\n",
       "    </tr>\n",
       "    <tr>\n",
       "      <th>41</th>\n",
       "      <td>2/11/17</td>\n",
       "      <td>Saturday</td>\n",
       "      <td>212.0</td>\n",
       "      <td>0.91</td>\n",
       "      <td>35</td>\n",
       "      <td>0.5</td>\n",
       "      <td>21</td>\n",
       "    </tr>\n",
       "    <tr>\n",
       "      <th>42</th>\n",
       "      <td>2/12/17</td>\n",
       "      <td>Sunday</td>\n",
       "      <td>55.6</td>\n",
       "      <td>0.83</td>\n",
       "      <td>41</td>\n",
       "      <td>0.5</td>\n",
       "      <td>22</td>\n",
       "    </tr>\n",
       "    <tr>\n",
       "      <th>43</th>\n",
       "      <td>2/13/17</td>\n",
       "      <td>Monday</td>\n",
       "      <td>46.4</td>\n",
       "      <td>1.11</td>\n",
       "      <td>34</td>\n",
       "      <td>0.5</td>\n",
       "      <td>18</td>\n",
       "    </tr>\n",
       "    <tr>\n",
       "      <th>44</th>\n",
       "      <td>2/14/17</td>\n",
       "      <td>Tuesday</td>\n",
       "      <td>47.7</td>\n",
       "      <td>0.95</td>\n",
       "      <td>35</td>\n",
       "      <td>0.5</td>\n",
       "      <td>19</td>\n",
       "    </tr>\n",
       "  </tbody>\n",
       "</table>\n",
       "</div>"
      ],
      "text/plain": [
       "       Date       Day  Temperature  Rainfall  Flyers  Price  Sales\n",
       "39   2/9/17  Thursday         42.7      1.00      39    0.5     19\n",
       "40  2/10/17    Friday         50.0      0.91      40    0.5     20\n",
       "41  2/11/17  Saturday        212.0      0.91      35    0.5     21\n",
       "42  2/12/17    Sunday         55.6      0.83      41    0.5     22\n",
       "43  2/13/17    Monday         46.4      1.11      34    0.5     18\n",
       "44  2/14/17   Tuesday         47.7      0.95      35    0.5     19"
      ]
     },
     "execution_count": 32,
     "metadata": {},
     "output_type": "execute_result"
    }
   ],
   "source": [
    "# get location of temperature outliner \n",
    "df.loc[39:44]"
   ]
  },
  {
   "cell_type": "code",
   "execution_count": 33,
   "metadata": {},
   "outputs": [],
   "source": [
    "# Use back-filled method to replace the temperature outliner 212 with 55.6\n",
    "df.Temperature.loc[41] = 55.6"
   ]
  },
  {
   "cell_type": "code",
   "execution_count": 34,
   "metadata": {},
   "outputs": [
    {
     "data": {
      "text/html": [
       "<div>\n",
       "<style scoped>\n",
       "    .dataframe tbody tr th:only-of-type {\n",
       "        vertical-align: middle;\n",
       "    }\n",
       "\n",
       "    .dataframe tbody tr th {\n",
       "        vertical-align: top;\n",
       "    }\n",
       "\n",
       "    .dataframe thead th {\n",
       "        text-align: right;\n",
       "    }\n",
       "</style>\n",
       "<table border=\"1\" class=\"dataframe\">\n",
       "  <thead>\n",
       "    <tr style=\"text-align: right;\">\n",
       "      <th></th>\n",
       "      <th>Date</th>\n",
       "      <th>Day</th>\n",
       "      <th>Temperature</th>\n",
       "      <th>Rainfall</th>\n",
       "      <th>Flyers</th>\n",
       "      <th>Price</th>\n",
       "      <th>Sales</th>\n",
       "    </tr>\n",
       "  </thead>\n",
       "  <tbody>\n",
       "    <tr>\n",
       "      <th>39</th>\n",
       "      <td>2/9/17</td>\n",
       "      <td>Thursday</td>\n",
       "      <td>42.7</td>\n",
       "      <td>1.00</td>\n",
       "      <td>39</td>\n",
       "      <td>0.5</td>\n",
       "      <td>19</td>\n",
       "    </tr>\n",
       "    <tr>\n",
       "      <th>40</th>\n",
       "      <td>2/10/17</td>\n",
       "      <td>Friday</td>\n",
       "      <td>50.0</td>\n",
       "      <td>0.91</td>\n",
       "      <td>40</td>\n",
       "      <td>0.5</td>\n",
       "      <td>20</td>\n",
       "    </tr>\n",
       "    <tr>\n",
       "      <th>41</th>\n",
       "      <td>2/11/17</td>\n",
       "      <td>Saturday</td>\n",
       "      <td>55.6</td>\n",
       "      <td>0.91</td>\n",
       "      <td>35</td>\n",
       "      <td>0.5</td>\n",
       "      <td>21</td>\n",
       "    </tr>\n",
       "    <tr>\n",
       "      <th>42</th>\n",
       "      <td>2/12/17</td>\n",
       "      <td>Sunday</td>\n",
       "      <td>55.6</td>\n",
       "      <td>0.83</td>\n",
       "      <td>41</td>\n",
       "      <td>0.5</td>\n",
       "      <td>22</td>\n",
       "    </tr>\n",
       "    <tr>\n",
       "      <th>43</th>\n",
       "      <td>2/13/17</td>\n",
       "      <td>Monday</td>\n",
       "      <td>46.4</td>\n",
       "      <td>1.11</td>\n",
       "      <td>34</td>\n",
       "      <td>0.5</td>\n",
       "      <td>18</td>\n",
       "    </tr>\n",
       "    <tr>\n",
       "      <th>44</th>\n",
       "      <td>2/14/17</td>\n",
       "      <td>Tuesday</td>\n",
       "      <td>47.7</td>\n",
       "      <td>0.95</td>\n",
       "      <td>35</td>\n",
       "      <td>0.5</td>\n",
       "      <td>19</td>\n",
       "    </tr>\n",
       "  </tbody>\n",
       "</table>\n",
       "</div>"
      ],
      "text/plain": [
       "       Date       Day  Temperature  Rainfall  Flyers  Price  Sales\n",
       "39   2/9/17  Thursday         42.7      1.00      39    0.5     19\n",
       "40  2/10/17    Friday         50.0      0.91      40    0.5     20\n",
       "41  2/11/17  Saturday         55.6      0.91      35    0.5     21\n",
       "42  2/12/17    Sunday         55.6      0.83      41    0.5     22\n",
       "43  2/13/17    Monday         46.4      1.11      34    0.5     18\n",
       "44  2/14/17   Tuesday         47.7      0.95      35    0.5     19"
      ]
     },
     "execution_count": 34,
     "metadata": {},
     "output_type": "execute_result"
    }
   ],
   "source": [
    "df.loc[39:44]"
   ]
  },
  {
   "cell_type": "code",
   "execution_count": 35,
   "metadata": {
    "scrolled": false
   },
   "outputs": [
    {
     "data": {
      "text/plain": [
       "<matplotlib.axes._subplots.AxesSubplot at 0x12a64a410>"
      ]
     },
     "execution_count": 35,
     "metadata": {},
     "output_type": "execute_result"
    },
    {
     "data": {
      "image/png": "[encoded data removed]",
      "text/plain": [
       "<Figure size 432x288 with 1 Axes>"
      ]
     },
     "metadata": {
      "needs_background": "light"
     },
     "output_type": "display_data"
    }
   ],
   "source": [
    "df.Temperature.hist()"
   ]
  },
  {
   "cell_type": "code",
   "execution_count": 36,
   "metadata": {
    "scrolled": true
   },
   "outputs": [
    {
     "data": {
      "text/plain": [
       "<matplotlib.axes._subplots.AxesSubplot at 0x12a46ddd0>"
      ]
     },
     "execution_count": 36,
     "metadata": {},
     "output_type": "execute_result"
    },
    {
     "data": {
      "image/png": "[encoded data removed]",
      "text/plain": [
       "<Figure size 432x288 with 1 Axes>"
      ]
     },
     "metadata": {
      "needs_background": "light"
     },
     "output_type": "display_data"
    }
   ],
   "source": [
    "sns.distplot(df.Temperature)"
   ]
  },
  {
   "cell_type": "code",
   "execution_count": 37,
   "metadata": {},
   "outputs": [
    {
     "name": "stdout",
     "output_type": "stream",
     "text": [
      "60.79616438356169\n",
      "16.264945336092914\n"
     ]
    }
   ],
   "source": [
    "x = df.Temperature\n",
    "mean = df.Temperature.mean()\n",
    "std = df.Temperature.std()\n",
    "# Calculate the z-score \n",
    "zscores = (x - mean) / std\n",
    "print(mean)\n",
    "print(std)"
   ]
  },
  {
   "cell_type": "code",
   "execution_count": 38,
   "metadata": {},
   "outputs": [
    {
     "data": {
      "text/plain": [
       "0       27.0\n",
       "5       25.3\n",
       "166     99.3\n",
       "171     94.3\n",
       "176    102.6\n",
       "181    102.9\n",
       "182     93.4\n",
       "190     98.0\n",
       "198     99.3\n",
       "202     99.6\n",
       "207     97.9\n",
       "338     22.0\n",
       "364     15.1\n",
       "Name: Temperature, dtype: float64"
      ]
     },
     "execution_count": 38,
     "metadata": {},
     "output_type": "execute_result"
    }
   ],
   "source": [
    "# temperatures that fall beyond two standard deviation from mean, in other words, there is less than 5 percent chance\n",
    "# that those data ponits are fallen into the distribution area \n",
    "df.Temperature[zscores.abs() >= 2]"
   ]
  },
  {
   "cell_type": "code",
   "execution_count": 39,
   "metadata": {
    "scrolled": true
   },
   "outputs": [
    {
     "data": {
      "text/html": [
       "<div>\n",
       "<style scoped>\n",
       "    .dataframe tbody tr th:only-of-type {\n",
       "        vertical-align: middle;\n",
       "    }\n",
       "\n",
       "    .dataframe tbody tr th {\n",
       "        vertical-align: top;\n",
       "    }\n",
       "\n",
       "    .dataframe thead th {\n",
       "        text-align: right;\n",
       "    }\n",
       "</style>\n",
       "<table border=\"1\" class=\"dataframe\">\n",
       "  <thead>\n",
       "    <tr style=\"text-align: right;\">\n",
       "      <th></th>\n",
       "      <th>Date</th>\n",
       "      <th>Day</th>\n",
       "      <th>Temperature</th>\n",
       "      <th>Rainfall</th>\n",
       "      <th>Flyers</th>\n",
       "      <th>Price</th>\n",
       "      <th>Sales</th>\n",
       "    </tr>\n",
       "  </thead>\n",
       "  <tbody>\n",
       "    <tr>\n",
       "      <th>322</th>\n",
       "      <td>11/19/17</td>\n",
       "      <td>Sunday</td>\n",
       "      <td>55.9</td>\n",
       "      <td>0.87</td>\n",
       "      <td>34</td>\n",
       "      <td>0.5</td>\n",
       "      <td>23</td>\n",
       "    </tr>\n",
       "    <tr>\n",
       "      <th>323</th>\n",
       "      <td>11/20/17</td>\n",
       "      <td>Monday</td>\n",
       "      <td>55.6</td>\n",
       "      <td>0.87</td>\n",
       "      <td>41</td>\n",
       "      <td>0.5</td>\n",
       "      <td>22</td>\n",
       "    </tr>\n",
       "    <tr>\n",
       "      <th>324</th>\n",
       "      <td>11/21/17</td>\n",
       "      <td>Tuesday</td>\n",
       "      <td>47.0</td>\n",
       "      <td>0.95</td>\n",
       "      <td>-38</td>\n",
       "      <td>0.5</td>\n",
       "      <td>20</td>\n",
       "    </tr>\n",
       "    <tr>\n",
       "      <th>325</th>\n",
       "      <td>11/22/17</td>\n",
       "      <td>Wednesday</td>\n",
       "      <td>48.7</td>\n",
       "      <td>1.00</td>\n",
       "      <td>40</td>\n",
       "      <td>0.5</td>\n",
       "      <td>19</td>\n",
       "    </tr>\n",
       "    <tr>\n",
       "      <th>326</th>\n",
       "      <td>11/23/17</td>\n",
       "      <td>Thursday</td>\n",
       "      <td>51.9</td>\n",
       "      <td>0.87</td>\n",
       "      <td>47</td>\n",
       "      <td>0.5</td>\n",
       "      <td>23</td>\n",
       "    </tr>\n",
       "  </tbody>\n",
       "</table>\n",
       "</div>"
      ],
      "text/plain": [
       "         Date        Day  Temperature  Rainfall  Flyers  Price  Sales\n",
       "322  11/19/17     Sunday         55.9      0.87      34    0.5     23\n",
       "323  11/20/17     Monday         55.6      0.87      41    0.5     22\n",
       "324  11/21/17    Tuesday         47.0      0.95     -38    0.5     20\n",
       "325  11/22/17  Wednesday         48.7      1.00      40    0.5     19\n",
       "326  11/23/17   Thursday         51.9      0.87      47    0.5     23"
      ]
     },
     "execution_count": 39,
     "metadata": {},
     "output_type": "execute_result"
    }
   ],
   "source": [
    "# get the location of flyers outliner \n",
    "df.loc[322:326]"
   ]
  },
  {
   "cell_type": "code",
   "execution_count": 40,
   "metadata": {},
   "outputs": [],
   "source": [
    "# Use forward-filled method to replace the Flyer outliner -38 with 41\n",
    "df.Flyers.loc[324] = 41"
   ]
  },
  {
   "cell_type": "code",
   "execution_count": 41,
   "metadata": {},
   "outputs": [
    {
     "data": {
      "text/html": [
       "<div>\n",
       "<style scoped>\n",
       "    .dataframe tbody tr th:only-of-type {\n",
       "        vertical-align: middle;\n",
       "    }\n",
       "\n",
       "    .dataframe tbody tr th {\n",
       "        vertical-align: top;\n",
       "    }\n",
       "\n",
       "    .dataframe thead th {\n",
       "        text-align: right;\n",
       "    }\n",
       "</style>\n",
       "<table border=\"1\" class=\"dataframe\">\n",
       "  <thead>\n",
       "    <tr style=\"text-align: right;\">\n",
       "      <th></th>\n",
       "      <th>Date</th>\n",
       "      <th>Day</th>\n",
       "      <th>Temperature</th>\n",
       "      <th>Rainfall</th>\n",
       "      <th>Flyers</th>\n",
       "      <th>Price</th>\n",
       "      <th>Sales</th>\n",
       "    </tr>\n",
       "  </thead>\n",
       "  <tbody>\n",
       "    <tr>\n",
       "      <th>322</th>\n",
       "      <td>11/19/17</td>\n",
       "      <td>Sunday</td>\n",
       "      <td>55.9</td>\n",
       "      <td>0.87</td>\n",
       "      <td>34</td>\n",
       "      <td>0.5</td>\n",
       "      <td>23</td>\n",
       "    </tr>\n",
       "    <tr>\n",
       "      <th>323</th>\n",
       "      <td>11/20/17</td>\n",
       "      <td>Monday</td>\n",
       "      <td>55.6</td>\n",
       "      <td>0.87</td>\n",
       "      <td>41</td>\n",
       "      <td>0.5</td>\n",
       "      <td>22</td>\n",
       "    </tr>\n",
       "    <tr>\n",
       "      <th>324</th>\n",
       "      <td>11/21/17</td>\n",
       "      <td>Tuesday</td>\n",
       "      <td>47.0</td>\n",
       "      <td>0.95</td>\n",
       "      <td>41</td>\n",
       "      <td>0.5</td>\n",
       "      <td>20</td>\n",
       "    </tr>\n",
       "    <tr>\n",
       "      <th>325</th>\n",
       "      <td>11/22/17</td>\n",
       "      <td>Wednesday</td>\n",
       "      <td>48.7</td>\n",
       "      <td>1.00</td>\n",
       "      <td>40</td>\n",
       "      <td>0.5</td>\n",
       "      <td>19</td>\n",
       "    </tr>\n",
       "    <tr>\n",
       "      <th>326</th>\n",
       "      <td>11/23/17</td>\n",
       "      <td>Thursday</td>\n",
       "      <td>51.9</td>\n",
       "      <td>0.87</td>\n",
       "      <td>47</td>\n",
       "      <td>0.5</td>\n",
       "      <td>23</td>\n",
       "    </tr>\n",
       "  </tbody>\n",
       "</table>\n",
       "</div>"
      ],
      "text/plain": [
       "         Date        Day  Temperature  Rainfall  Flyers  Price  Sales\n",
       "322  11/19/17     Sunday         55.9      0.87      34    0.5     23\n",
       "323  11/20/17     Monday         55.6      0.87      41    0.5     22\n",
       "324  11/21/17    Tuesday         47.0      0.95      41    0.5     20\n",
       "325  11/22/17  Wednesday         48.7      1.00      40    0.5     19\n",
       "326  11/23/17   Thursday         51.9      0.87      47    0.5     23"
      ]
     },
     "execution_count": 41,
     "metadata": {},
     "output_type": "execute_result"
    }
   ],
   "source": [
    "df.loc[322:326]"
   ]
  },
  {
   "cell_type": "code",
   "execution_count": 42,
   "metadata": {
    "scrolled": false
   },
   "outputs": [
    {
     "data": {
      "text/plain": [
       "<matplotlib.axes._subplots.AxesSubplot at 0x12a7bb810>"
      ]
     },
     "execution_count": 42,
     "metadata": {},
     "output_type": "execute_result"
    },
    {
     "data": {
      "image/png": "[encoded data removed]",
      "text/plain": [
       "<Figure size 432x288 with 1 Axes>"
      ]
     },
     "metadata": {
      "needs_background": "light"
     },
     "output_type": "display_data"
    }
   ],
   "source": [
    "df.Flyers.hist()"
   ]
  },
  {
   "cell_type": "code",
   "execution_count": 43,
   "metadata": {
    "scrolled": true
   },
   "outputs": [
    {
     "data": {
      "text/plain": [
       "<matplotlib.axes._subplots.AxesSubplot at 0x12a8de390>"
      ]
     },
     "execution_count": 43,
     "metadata": {},
     "output_type": "execute_result"
    },
    {
     "data": {
      "image/png": "[encoded data removed]",
      "text/plain": [
       "<Figure size 432x288 with 1 Axes>"
      ]
     },
     "metadata": {
      "needs_background": "light"
     },
     "output_type": "display_data"
    }
   ],
   "source": [
    "sns.distplot(df.Flyers)"
   ]
  },
  {
   "cell_type": "code",
   "execution_count": 44,
   "metadata": {},
   "outputs": [
    {
     "name": "stdout",
     "output_type": "stream",
     "text": [
      "40.320547945205476\n",
      "13.162915761611591\n"
     ]
    }
   ],
   "source": [
    "x = df.Flyers\n",
    "mean = df.Flyers.mean()\n",
    "std = df.Flyers.std()\n",
    "# Calculate the z-score \n",
    "zscores = (x - mean) / std\n",
    "print(mean)\n",
    "print(std)"
   ]
  },
  {
   "cell_type": "code",
   "execution_count": 45,
   "metadata": {},
   "outputs": [
    {
     "data": {
      "text/plain": [
       "162    67\n",
       "166    77\n",
       "170    70\n",
       "171    76\n",
       "182    68\n",
       "183    68\n",
       "194    80\n",
       "198    76\n",
       "203    72\n",
       "204    69\n",
       "207    74\n",
       "338    11\n",
       "364     9\n",
       "Name: Flyers, dtype: int64"
      ]
     },
     "execution_count": 45,
     "metadata": {},
     "output_type": "execute_result"
    }
   ],
   "source": [
    "# flyers that fall beyond two standard deviation from mean, in other words, there is less than 5 percent chance\n",
    "# that those data ponits are fallen into the distribution area \n",
    "df.Flyers[zscores.abs() >= 2]"
   ]
  },
  {
   "cell_type": "markdown",
   "metadata": {},
   "source": [
    "3. Now use a 3 sigma decision rule to isolate the outliers in the normally distributed columns from lemonade.csv"
   ]
  },
  {
   "cell_type": "code",
   "execution_count": 46,
   "metadata": {},
   "outputs": [
    {
     "name": "stdout",
     "output_type": "stream",
     "text": [
      "60.79616438356169\n",
      "16.264945336092914\n"
     ]
    }
   ],
   "source": [
    "x = df.Temperature\n",
    "mean = df.Temperature.mean()\n",
    "std = df.Temperature.std()\n",
    "# Calculate the z-score \n",
    "zscores = (x - mean) / std\n",
    "print(mean)\n",
    "print(std)"
   ]
  },
  {
   "cell_type": "code",
   "execution_count": 47,
   "metadata": {
    "scrolled": true
   },
   "outputs": [
    {
     "data": {
      "text/plain": [
       "Series([], Name: Temperature, dtype: float64)"
      ]
     },
     "execution_count": 47,
     "metadata": {},
     "output_type": "execute_result"
    }
   ],
   "source": [
    "# temperatures that fall beyond three standard deviation from mean, in other words, there is less than 1 percent chance\n",
    "# that those data ponits are fallen into the distribution area \n",
    "df.Temperature[zscores.abs() >= 3]"
   ]
  },
  {
   "cell_type": "markdown",
   "metadata": {},
   "source": [
    "Takeaway: There is no temperature outliners beyond three standard deviation from mean."
   ]
  },
  {
   "cell_type": "code",
   "execution_count": 48,
   "metadata": {},
   "outputs": [
    {
     "name": "stdout",
     "output_type": "stream",
     "text": [
      "40.320547945205476\n",
      "13.162915761611591\n"
     ]
    }
   ],
   "source": [
    "x = df.Flyers\n",
    "mean = df.Flyers.mean()\n",
    "std = df.Flyers.std()\n",
    "# Calculate the z-score \n",
    "zscores = (x - mean) / std\n",
    "print(mean)\n",
    "print(std)"
   ]
  },
  {
   "cell_type": "code",
   "execution_count": 49,
   "metadata": {},
   "outputs": [
    {
     "data": {
      "text/plain": [
       "194    80\n",
       "Name: Flyers, dtype: int64"
      ]
     },
     "execution_count": 49,
     "metadata": {},
     "output_type": "execute_result"
    }
   ],
   "source": [
    "# flyers that fall beyond two standard deviation from mean, in other words, there is less than 5 percent chance\n",
    "# that those data ponits are fallen into the distribution area \n",
    "df.Flyers[zscores.abs() >= 3]"
   ]
  },
  {
   "cell_type": "markdown",
   "metadata": {},
   "source": [
    "Takeaway: There is one flyer outliner beyond three standard deviation from mean."
   ]
  },
  {
   "cell_type": "code",
   "execution_count": null,
   "metadata": {},
   "outputs": [],
   "source": []
  }
 ],
 "metadata": {
  "kernelspec": {
   "display_name": "Python 3",
   "language": "python",
   "name": "python3"
  },
  "language_info": {
   "codemirror_mode": {
    "name": "ipython",
    "version": 3
   },
   "file_extension": ".py",
   "mimetype": "text/x-python",
   "name": "python",
   "nbconvert_exporter": "python",
   "pygments_lexer": "ipython3",
   "version": "3.7.4"
  }
 },
 "nbformat": 4,
 "nbformat_minor": 2
}
